{
 "cells": [
  {
   "cell_type": "code",
   "execution_count": 1,
   "metadata": {},
   "outputs": [],
   "source": [
    "# import needed\n",
    "from bayes_opt import BayesianOptimization\n",
    "from cloud_pipeline import CloudPipeline\n",
    "from cloud_pipeline.config import ARG_KEYS\n",
    "import numpy as np\n"
   ]
  },
  {
   "cell_type": "code",
   "execution_count": 2,
   "metadata": {},
   "outputs": [],
   "source": [
    "# instantiate cloud_pipeline\n",
    "cp = CloudPipeline()"
   ]
  },
  {
   "cell_type": "code",
   "execution_count": 3,
   "metadata": {},
   "outputs": [
    {
     "name": "stderr",
     "output_type": "stream",
     "text": [
      "/usr/lib/python2.7/dist-packages/urllib3/util/ssl_.py:315: SNIMissingWarning: An HTTPS request has been made, but the SNI (Subject Name Indication) extension to TLS is not available on this platform. This may cause the server to present an incorrect TLS certificate, which can cause validation failures. For more information, see https://urllib3.readthedocs.org/en/latest/security.html#snimissingwarning.\n",
      "  SNIMissingWarning\n",
      "/usr/lib/python2.7/dist-packages/urllib3/util/ssl_.py:120: InsecurePlatformWarning: A true SSLContext object is not available. This prevents urllib3 from configuring SSL appropriately and may cause certain SSL connections to fail. For more information, see https://urllib3.readthedocs.org/en/latest/security.html#insecureplatformwarning.\n",
      "  InsecurePlatformWarning\n"
     ]
    }
   ],
   "source": [
    "# cleanup\n",
    "if cp.vnf_existed():\n",
    "    cp.vnf_cleanup()\n",
    "\n",
    "# genarate load\n",
    "if not cp.load_existed():\n",
    "    load_gen = cp.load_gen()\n"
   ]
  },
  {
   "cell_type": "code",
   "execution_count": 4,
   "metadata": {},
   "outputs": [
    {
     "data": {
      "text/plain": [
       "{'w_cpu_p': (-1, 1),\n",
       " 'w_disk': (-1, 1),\n",
       " 'w_frequency': (-1, 1),\n",
       " 'w_idle_p': (-1, 1),\n",
       " 'w_iowait_p': (-1, 1),\n",
       " 'w_kernel_p': (-1, 1),\n",
       " 'w_ram': (-1, 1),\n",
       " 'w_user_p': (-1, 1)}"
      ]
     },
     "execution_count": 4,
     "metadata": {},
     "output_type": "execute_result"
    }
   ],
   "source": [
    "# Bounded region of parameter space\n",
    "parameter_bounds = dict(zip(ARG_KEYS, [(-1, 1)] * len(ARG_KEYS)))\n",
    "\n",
    "parameter_bounds"
   ]
  },
  {
   "cell_type": "code",
   "execution_count": 5,
   "metadata": {
    "collapsed": true
   },
   "outputs": [],
   "source": [
    "optimizer = BayesianOptimization(\n",
    "    f=cp.benchmark_run,\n",
    "    pbounds=parameter_bounds,\n",
    "    random_state=1,\n",
    ")"
   ]
  },
  {
   "cell_type": "code",
   "execution_count": null,
   "metadata": {},
   "outputs": [
    {
     "name": "stdout",
     "output_type": "stream",
     "text": [
      "|   iter    |  target   |  w_cpu_p  |  w_disk   | w_freq... | w_idle_p  | w_iowa... | w_kern... |   w_ram   | w_user_p  |\n",
      "-------------------------------------------------------------------------------------------------------------------------\n"
     ]
    }
   ],
   "source": [
    "optimizer.maximize(\n",
    "    init_points=2,\n",
    "    n_iter=20,\n",
    ")"
   ]
  },
  {
   "cell_type": "code",
   "execution_count": 14,
   "metadata": {},
   "outputs": [
    {
     "data": {
      "text/plain": [
       "15"
      ]
     },
     "execution_count": 14,
     "metadata": {},
     "output_type": "execute_result"
    }
   ],
   "source": [
    "#for i, res in enumerate(optimizer.res):\n",
    "#    print(\"Iteration {}: \\n\\t{}\".format(i, res))\n",
    "\n",
    "len(optimizer.res)\n"
   ]
  },
  {
   "cell_type": "markdown",
   "metadata": {},
   "source": [
    "# Serilization"
   ]
  },
  {
   "cell_type": "code",
   "execution_count": 21,
   "metadata": {},
   "outputs": [
    {
     "data": {
      "text/plain": [
       "{'params': {'w_cpu_p': -0.165955990594852,\n",
       "  'w_disk': 0.4406489868843162,\n",
       "  'w_frequency': -0.9997712503653102,\n",
       "  'w_idle_p': -0.39533485473632046,\n",
       "  'w_iowait_p': -0.7064882183657739,\n",
       "  'w_kernel_p': -0.8153228104624044,\n",
       "  'w_ram': -0.6274795772446582,\n",
       "  'w_user_p': -0.3088785459139045},\n",
       " 'target': 1616.7473464993066}"
      ]
     },
     "execution_count": 21,
     "metadata": {},
     "output_type": "execute_result"
    }
   ],
   "source": [
    "optimizer.res[0]"
   ]
  },
  {
   "cell_type": "code",
   "execution_count": 6,
   "metadata": {},
   "outputs": [],
   "source": [
    "import json\n",
    "\n",
    "#res = optimizer.res\n",
    "log_path = \"/var/lib/cloud_pipeline/log.json\"\n",
    "\n",
    "def serilization(res_dict, log_path=log_path):\n",
    "    json_logs = json.dumps()\n",
    "    with open(log_path, \"w\") as j:\n",
    "        j.write(json_logs)"
   ]
  },
  {
   "cell_type": "markdown",
   "metadata": {},
   "source": [
    "# Unserilization"
   ]
  },
  {
   "cell_type": "code",
   "execution_count": 56,
   "metadata": {},
   "outputs": [],
   "source": [
    "optimizer1 = BayesianOptimization(\n",
    "    f=cp.benchmark_run,\n",
    "    pbounds=parameter_bounds,\n",
    "    random_state=1,\n",
    ")\n"
   ]
  },
  {
   "cell_type": "code",
   "execution_count": 7,
   "metadata": {},
   "outputs": [],
   "source": [
    "def unserilization(optimzer, log_path=log_path):\n",
    "    with open(log_path, \"r\") as j:\n",
    "        logs = json.loads(j.read())\n",
    "    log_dict = {}\n",
    "    log_dict[\"params\"] = []\n",
    "    log_dict[\"target\"] = []\n",
    "    for iteration in logs:\n",
    "        optimzer.register(\n",
    "            params=iteration[\"params\"],\n",
    "            target=iteration[\"target\"],\n",
    "        )\n"
   ]
  },
  {
   "cell_type": "code",
   "execution_count": 58,
   "metadata": {},
   "outputs": [],
   "source": []
  },
  {
   "cell_type": "code",
   "execution_count": 60,
   "metadata": {},
   "outputs": [
    {
     "data": {
      "text/plain": [
       "{'params': {'w_cpu_p': 0.9750692655000017,\n",
       "  'w_disk': -0.9414383839381675,\n",
       "  'w_frequency': -0.8625900540578666,\n",
       "  'w_idle_p': 0.9559815816629342,\n",
       "  'w_iowait_p': 0.5088451292635974,\n",
       "  'w_kernel_p': 0.40212223768049493,\n",
       "  'w_ram': 0.9876815146033604,\n",
       "  'w_user_p': 0.11764165429276385},\n",
       " 'target': 155.8629217310591}"
      ]
     },
     "execution_count": 60,
     "metadata": {},
     "output_type": "execute_result"
    }
   ],
   "source": [
    "optimizer1.res[-1]"
   ]
  },
  {
   "cell_type": "markdown",
   "metadata": {},
   "source": [
    "## Contined Training"
   ]
  },
  {
   "cell_type": "code",
   "execution_count": 8,
   "metadata": {},
   "outputs": [],
   "source": [
    "optimizer2 = BayesianOptimization(\n",
    "    f=cp.benchmark_run,\n",
    "    pbounds=parameter_bounds,\n",
    "    random_state=1,\n",
    ")\n",
    "unserilization(optimizer2, log_path)"
   ]
  },
  {
   "cell_type": "code",
   "execution_count": null,
   "metadata": {},
   "outputs": [
    {
     "name": "stdout",
     "output_type": "stream",
     "text": [
      "|   iter    |  target   |  w_cpu_p  |  w_disk   | w_freq... | w_idle_p  | w_iowa... | w_kern... |   w_ram   | w_user_p  |\n",
      "-------------------------------------------------------------------------------------------------------------------------\n",
      "| \u001b[0m 1       \u001b[0m | \u001b[0m 155.9   \u001b[0m | \u001b[0m 0.9751  \u001b[0m | \u001b[0m-0.9414  \u001b[0m | \u001b[0m-0.8626  \u001b[0m | \u001b[0m 0.956   \u001b[0m | \u001b[0m 0.5088  \u001b[0m | \u001b[0m 0.4021  \u001b[0m | \u001b[0m 0.9877  \u001b[0m | \u001b[0m 0.1176  \u001b[0m |\n",
      "| \u001b[0m 2       \u001b[0m | \u001b[0m 155.9   \u001b[0m | \u001b[0m 0.9751  \u001b[0m | \u001b[0m-0.9414  \u001b[0m | \u001b[0m-0.8626  \u001b[0m | \u001b[0m 0.956   \u001b[0m | \u001b[0m 0.5088  \u001b[0m | \u001b[0m 0.4021  \u001b[0m | \u001b[0m 0.9877  \u001b[0m | \u001b[0m 0.1176  \u001b[0m |\n"
     ]
    }
   ],
   "source": [
    "optimizer2.maximize(\n",
    "    #init_points=2,\n",
    "    n_iter=20,\n",
    ")\n",
    "log_path2 = \"/var/lib/cloud_pipeline/log_2.json\"\n",
    "serilization(optimizer2, log_path2)"
   ]
  },
  {
   "cell_type": "code",
   "execution_count": null,
   "metadata": {},
   "outputs": [],
   "source": []
  }
 ],
 "metadata": {
  "kernelspec": {
   "display_name": "Python 2",
   "language": "python",
   "name": "python2"
  },
  "language_info": {
   "codemirror_mode": {
    "name": "ipython",
    "version": 2
   },
   "file_extension": ".py",
   "mimetype": "text/x-python",
   "name": "python",
   "nbconvert_exporter": "python",
   "pygments_lexer": "ipython2",
   "version": "2.7.6"
  }
 },
 "nbformat": 4,
 "nbformat_minor": 2
}
