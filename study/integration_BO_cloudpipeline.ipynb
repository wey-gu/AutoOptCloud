{
 "cells": [
  {
   "cell_type": "code",
   "execution_count": 1,
   "metadata": {},
   "outputs": [],
   "source": [
    "# import needed\n",
    "from bayes_opt import BayesianOptimization\n",
    "from cloud_pipeline import CloudPipeline\n",
    "from cloud_pipeline.config import ARG_KEYS\n",
    "import numpy as np\n"
   ]
  },
  {
   "cell_type": "code",
   "execution_count": 2,
   "metadata": {},
   "outputs": [],
   "source": [
    "# instantiate cloud_pipeline\n",
    "cp = CloudPipeline()"
   ]
  },
  {
   "cell_type": "code",
   "execution_count": 3,
   "metadata": {},
   "outputs": [
    {
     "name": "stderr",
     "output_type": "stream",
     "text": [
      "/usr/lib/python2.7/dist-packages/urllib3/util/ssl_.py:315: SNIMissingWarning: An HTTPS request has been made, but the SNI (Subject Name Indication) extension to TLS is not available on this platform. This may cause the server to present an incorrect TLS certificate, which can cause validation failures. For more information, see https://urllib3.readthedocs.org/en/latest/security.html#snimissingwarning.\n",
      "  SNIMissingWarning\n",
      "/usr/lib/python2.7/dist-packages/urllib3/util/ssl_.py:120: InsecurePlatformWarning: A true SSLContext object is not available. This prevents urllib3 from configuring SSL appropriately and may cause certain SSL connections to fail. For more information, see https://urllib3.readthedocs.org/en/latest/security.html#insecureplatformwarning.\n",
      "  InsecurePlatformWarning\n"
     ]
    }
   ],
   "source": [
    "# cleanup\n",
    "if cp.vnf_existed():\n",
    "    cp.vnf_cleanup()\n",
    "\n",
    "# genarate load\n",
    "if not cp.load_existed():\n",
    "    load_gen = cp.load_gen()\n"
   ]
  },
  {
   "cell_type": "code",
   "execution_count": 7,
   "metadata": {},
   "outputs": [
    {
     "data": {
      "text/plain": [
       "{'w_cpu_p': (-1, 1),\n",
       " 'w_disk': (-1, 1),\n",
       " 'w_frequency': (-1, 1),\n",
       " 'w_idle_p': (-1, 1),\n",
       " 'w_iowait_p': (-1, 1),\n",
       " 'w_kernel_p': (-1, 1),\n",
       " 'w_ram': (-1, 1),\n",
       " 'w_user_p': (-1, 1)}"
      ]
     },
     "execution_count": 7,
     "metadata": {},
     "output_type": "execute_result"
    }
   ],
   "source": [
    "# Bounded region of parameter space\n",
    "parameter_bounds = dict(zip(ARG_KEYS, [(-1, 1)] * len(ARG_KEYS)))\n",
    "\n",
    "parameter_bounds"
   ]
  },
  {
   "cell_type": "code",
   "execution_count": null,
   "metadata": {},
   "outputs": [],
   "source": [
    "optimizer = BayesianOptimization(\n",
    "    f=cp.benchmark_run,\n",
    "    pbounds=parameter_bounds,\n",
    "    random_state=1,\n",
    ")"
   ]
  },
  {
   "cell_type": "code",
   "execution_count": null,
   "metadata": {},
   "outputs": [],
   "source": [
    "optimizer.maximize(\n",
    "    init_points=2,\n",
    "    n_iter=20,\n",
    ")"
   ]
  },
  {
   "cell_type": "code",
   "execution_count": null,
   "metadata": {},
   "outputs": [],
   "source": [
    "#for i, res in enumerate(optimizer.res):\n",
    "#    print(\"Iteration {}: \\n\\t{}\".format(i, res))\n",
    "\n",
    "len(optimizer.res)\n",
    "optimizer.res[0]"
   ]
  },
  {
   "cell_type": "markdown",
   "metadata": {},
   "source": [
    "# Serilization"
   ]
  },
  {
   "cell_type": "code",
   "execution_count": 4,
   "metadata": {},
   "outputs": [],
   "source": [
    "import json\n",
    "\n",
    "#res = optimizer.res\n",
    "log_path = \"/var/lib/cloud_pipeline/log.json\"\n",
    "\n",
    "def serilization(res_dict, log_path=log_path):\n",
    "    json_logs = json.dumps(res_dict)\n",
    "    with open(log_path, \"w\") as j:\n",
    "        j.write(json_logs)"
   ]
  },
  {
   "cell_type": "markdown",
   "metadata": {},
   "source": [
    "# Unserilization"
   ]
  },
  {
   "cell_type": "code",
   "execution_count": 5,
   "metadata": {},
   "outputs": [],
   "source": [
    "def unserilization(optimzer, log_path=log_path):\n",
    "    with open(log_path, \"r\") as j:\n",
    "        logs = json.loads(j.read())\n",
    "    log_dict = {}\n",
    "    log_dict[\"params\"] = []\n",
    "    log_dict[\"target\"] = []\n",
    "    for iteration in logs:\n",
    "        optimzer.register(\n",
    "            params=iteration[\"params\"],\n",
    "            target=iteration[\"target\"],\n",
    "        )\n"
   ]
  },
  {
   "cell_type": "markdown",
   "metadata": {},
   "source": [
    "## Contined Training"
   ]
  },
  {
   "cell_type": "code",
   "execution_count": null,
   "metadata": {},
   "outputs": [],
   "source": [
    "optimizer2 = BayesianOptimization(\n",
    "    f=cp.benchmark_run,\n",
    "    pbounds=parameter_bounds,\n",
    "    random_state=1,\n",
    ")\n",
    "unserilization(optimizer2, log_path)"
   ]
  },
  {
   "cell_type": "code",
   "execution_count": null,
   "metadata": {},
   "outputs": [],
   "source": [
    "optimizer2.maximize(\n",
    "    init_points=0,\n",
    "    n_iter=10,\n",
    ")\n",
    "log_path2 = \"/var/lib/cloud_pipeline/log_2.json\"\n",
    "serilization(optimizer2, log_path2)"
   ]
  },
  {
   "cell_type": "code",
   "execution_count": null,
   "metadata": {},
   "outputs": [],
   "source": [
    "optimizer2.res"
   ]
  },
  {
   "cell_type": "code",
   "execution_count": null,
   "metadata": {},
   "outputs": [],
   "source": [
    "len(optimizer2.res)"
   ]
  },
  {
   "cell_type": "code",
   "execution_count": null,
   "metadata": {},
   "outputs": [],
   "source": [
    "log_optimizer2_path = \"/var/lib/cloud_pipeline/log_optimizer2.json\"\n",
    "\n",
    "serilization(optimizer2.res, log_path=log_optimizer2_path)"
   ]
  },
  {
   "cell_type": "code",
   "execution_count": null,
   "metadata": {},
   "outputs": [],
   "source": [
    "log_optimizer2_path = \"/var/lib/cloud_pipeline/log_optimizer2.json\"\n",
    "\n",
    "optimizer3 = BayesianOptimization(\n",
    "    f=cp.benchmark_run,\n",
    "    pbounds=parameter_bounds,\n",
    "    random_state=1,\n",
    ")\n",
    "unserilization(optimizer3, log_optimizer2_path)"
   ]
  },
  {
   "cell_type": "code",
   "execution_count": null,
   "metadata": {},
   "outputs": [],
   "source": [
    "optimizer3.maximize(\n",
    "    init_points=0,\n",
    "    n_iter=10,\n",
    ")"
   ]
  },
  {
   "cell_type": "code",
   "execution_count": null,
   "metadata": {},
   "outputs": [],
   "source": [
    "len(optimizer3.res)\n"
   ]
  },
  {
   "cell_type": "code",
   "execution_count": null,
   "metadata": {},
   "outputs": [],
   "source": [
    "optimizer3.res[-3:]"
   ]
  },
  {
   "cell_type": "code",
   "execution_count": null,
   "metadata": {},
   "outputs": [],
   "source": [
    "log_optimizer3_path = \"/var/lib/cloud_pipeline/log_optimizer3.json\"\n",
    "\n",
    "serilization(optimizer3.res, log_path=log_optimizer3_path)"
   ]
  },
  {
   "cell_type": "code",
   "execution_count": null,
   "metadata": {},
   "outputs": [],
   "source": [
    "log_optimizer3_path = \"/var/lib/cloud_pipeline/log_optimizer3.json\"\n",
    "\n",
    "optimizer4 = BayesianOptimization(\n",
    "    f=cp.benchmark_run,\n",
    "    pbounds=parameter_bounds,\n",
    "    random_state=1,\n",
    ")\n",
    "unserilization(optimizer4, log_optimizer3_path)"
   ]
  },
  {
   "cell_type": "code",
   "execution_count": null,
   "metadata": {},
   "outputs": [],
   "source": [
    "optimizer4.maximize(\n",
    "    init_points=0,\n",
    "    n_iter=10,\n",
    ")"
   ]
  },
  {
   "cell_type": "markdown",
   "metadata": {},
   "source": [
    "> above run succeeded, let's serilze it"
   ]
  },
  {
   "cell_type": "code",
   "execution_count": null,
   "metadata": {},
   "outputs": [],
   "source": [
    "log_optimizer4_path = \"/var/lib/cloud_pipeline/log_optimizer4.json\"\n",
    "\n",
    "serilization(optimizer4.res, log_path=log_optimizer4_path)"
   ]
  },
  {
   "cell_type": "markdown",
   "metadata": {},
   "source": [
    "> also save output here in the nb"
   ]
  },
  {
   "cell_type": "code",
   "execution_count": 8,
   "metadata": {},
   "outputs": [],
   "source": [
    "log_optimizer4_path = \"/var/lib/cloud_pipeline/log_optimizer4.json\"\n",
    "\n",
    "optimizer5 = BayesianOptimization(\n",
    "    f=cp.benchmark_run,\n",
    "    pbounds=parameter_bounds,\n",
    "    random_state=1,\n",
    ")\n",
    "unserilization(optimizer5, log_optimizer4_path)"
   ]
  },
  {
   "cell_type": "code",
   "execution_count": null,
   "metadata": {},
   "outputs": [
    {
     "name": "stdout",
     "output_type": "stream",
     "text": [
      "|   iter    |  target   |  w_cpu_p  |  w_disk   | w_freq... | w_idle_p  | w_iowa... | w_kern... |   w_ram   | w_user_p  |\n",
      "-------------------------------------------------------------------------------------------------------------------------\n",
      "| \u001b[0m 1       \u001b[0m | \u001b[0m 552.4   \u001b[0m | \u001b[0m-0.02862 \u001b[0m | \u001b[0m 0.8156  \u001b[0m | \u001b[0m 0.3173  \u001b[0m | \u001b[0m-0.1934  \u001b[0m | \u001b[0m-0.3709  \u001b[0m | \u001b[0m 0.2313  \u001b[0m | \u001b[0m 0.1651  \u001b[0m | \u001b[0m 0.0264  \u001b[0m |\n",
      "| \u001b[0m 2       \u001b[0m | \u001b[0m 2.554e+0\u001b[0m | \u001b[0m 1.0     \u001b[0m | \u001b[0m 1.0     \u001b[0m | \u001b[0m 1.0     \u001b[0m | \u001b[0m 1.0     \u001b[0m | \u001b[0m 1.0     \u001b[0m | \u001b[0m 1.0     \u001b[0m | \u001b[0m 1.0     \u001b[0m | \u001b[0m 1.0     \u001b[0m |\n"
     ]
    }
   ],
   "source": [
    "optimizer5.maximize(\n",
    "    init_points=0,\n",
    "    n_iter=3,\n",
    ")"
   ]
  },
  {
   "cell_type": "markdown",
   "metadata": {},
   "source": [
    "> run whole night then serilization"
   ]
  },
  {
   "cell_type": "code",
   "execution_count": null,
   "metadata": {},
   "outputs": [],
   "source": [
    "optimizer5.maximize(\n",
    "    init_points=0,\n",
    "    n_iter=20,\n",
    ")"
   ]
  },
  {
   "cell_type": "code",
   "execution_count": 15,
   "metadata": {},
   "outputs": [
    {
     "data": {
      "text/plain": [
       "53"
      ]
     },
     "execution_count": 15,
     "metadata": {},
     "output_type": "execute_result"
    }
   ],
   "source": [
    "log_optimizer5_path = \"/var/lib/cloud_pipeline/log_optimizer5_whole_night.json\"\n",
    "serilization(optimizer5.res, log_path=log_optimizer5_path)\n",
    "len(optimizer5.res)"
   ]
  },
  {
   "cell_type": "code",
   "execution_count": null,
   "metadata": {},
   "outputs": [],
   "source": []
  }
 ],
 "metadata": {
  "kernelspec": {
   "display_name": "Python 2",
   "language": "python",
   "name": "python2"
  },
  "language_info": {
   "codemirror_mode": {
    "name": "ipython",
    "version": 2
   },
   "file_extension": ".py",
   "mimetype": "text/x-python",
   "name": "python",
   "nbconvert_exporter": "python",
   "pygments_lexer": "ipython2",
   "version": "2.7.6"
  }
 },
 "nbformat": 4,
 "nbformat_minor": 2
}
