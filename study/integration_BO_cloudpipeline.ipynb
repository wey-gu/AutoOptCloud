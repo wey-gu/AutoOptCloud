{
 "cells": [
  {
   "cell_type": "markdown",
   "metadata": {},
   "source": [
    "# Setup envrionment"
   ]
  },
  {
   "cell_type": "code",
   "execution_count": 1,
   "metadata": {},
   "outputs": [],
   "source": [
    "# import needed\n",
    "from bayes_opt import BayesianOptimization\n",
    "from cloud_pipeline import CloudPipeline\n",
    "from cloud_pipeline.config import ARG_KEYS\n",
    "import numpy as np\n",
    "\n",
    "import warnings\n",
    "warnings.filterwarnings('ignore')"
   ]
  },
  {
   "cell_type": "code",
   "execution_count": 2,
   "metadata": {},
   "outputs": [],
   "source": [
    "# instantiate cloud_pipeline\n",
    "cp = CloudPipeline()\n",
    "\n",
    "# Bounded region of parameter space\n",
    "parameter_bounds = dict(zip(ARG_KEYS, [(-1, 1)] * len(ARG_KEYS)))"
   ]
  },
  {
   "cell_type": "code",
   "execution_count": 8,
   "metadata": {},
   "outputs": [],
   "source": [
    "# cleanup ENV\n",
    "if cp.vnf_existed():\n",
    "    cp.vnf_cleanup()\n",
    "\n",
    "# genarate load\n",
    "if not cp.load_existed():\n",
    "    load_gen = cp.load_gen()\n"
   ]
  },
  {
   "cell_type": "code",
   "execution_count": 3,
   "metadata": {},
   "outputs": [],
   "source": [
    "# Serilization\n",
    "import json\n",
    "\n",
    "#res = optimizer.res\n",
    "log_path = \"/var/lib/cloud_pipeline/log.json\"\n",
    "\n",
    "def serilization(res_dict, log_path=log_path):\n",
    "    json_logs = json.dumps(res_dict)\n",
    "    with open(log_path, \"w\") as j:\n",
    "        j.write(json_logs)\n",
    "\n",
    "def unserilization(optimzer, log_path=log_path):\n",
    "    with open(log_path, \"r\") as j:\n",
    "        logs = json.loads(j.read())\n",
    "    log_dict = {}\n",
    "    log_dict[\"params\"] = []\n",
    "    log_dict[\"target\"] = []\n",
    "    for iteration in logs:\n",
    "        optimzer.register(\n",
    "            params=iteration[\"params\"],\n",
    "            target=iteration[\"target\"],\n",
    "        )"
   ]
  },
  {
   "cell_type": "markdown",
   "metadata": {},
   "source": [
    "# Instantiation of Optimizer"
   ]
  },
  {
   "cell_type": "code",
   "execution_count": 10,
   "metadata": {},
   "outputs": [],
   "source": [
    "optimizer = BayesianOptimization(\n",
    "    f=cp.benchmark_run,\n",
    "    pbounds=parameter_bounds,\n",
    "    random_state=1,\n",
    ")"
   ]
  },
  {
   "cell_type": "markdown",
   "metadata": {},
   "source": [
    "# Run Opt. and serilization"
   ]
  },
  {
   "cell_type": "code",
   "execution_count": null,
   "metadata": {},
   "outputs": [
    {
     "name": "stdout",
     "output_type": "stream",
     "text": [
      "|   iter    |  target   |  w_cpu_p  |  w_disk   | w_freq... | w_idle_p  | w_iowa... | w_kern... |   w_ram   | w_user_p  |\n",
      "-------------------------------------------------------------------------------------------------------------------------\n"
     ]
    }
   ],
   "source": [
    "optimizer.maximize(\n",
    "    init_points=0,\n",
    "    n_iter=48,\n",
    ")\n",
    "\n",
    "dump_path = \"/var/lib/cloud_pipeline/dump.json\"\n",
    "serilization(optimizer, dump_path)\n",
    "len(optimizer.res)"
   ]
  },
  {
   "cell_type": "markdown",
   "metadata": {},
   "source": [
    "## Continue Training"
   ]
  },
  {
   "cell_type": "code",
   "execution_count": null,
   "metadata": {},
   "outputs": [],
   "source": [
    "optimizer = BayesianOptimization(\n",
    "    f=cp.benchmark_run,\n",
    "    pbounds=parameter_bounds,\n",
    "    random_state=1,\n",
    ")\n",
    "\n",
    "dump_path = \"/var/lib/cloud_pipeline/dump.json\"\n",
    "\n",
    "len(optimizer.res)\n",
    "\n",
    "unserilization(optimizer, dump_path)\n",
    "\n",
    "optimizer.maximize(\n",
    "    init_points=0,\n",
    "    n_iter=48,\n",
    ")\n",
    "serilization(optimizer, dump_path)\n",
    "\n",
    "len(optimizer.res)"
   ]
  },
  {
   "cell_type": "markdown",
   "metadata": {},
   "source": [
    "# check results"
   ]
  },
  {
   "cell_type": "code",
   "execution_count": null,
   "metadata": {},
   "outputs": [],
   "source": [
    "#for i, res in enumerate(optimizer.res):\n",
    "#    print(\"Iteration {}: \\n\\t{}\".format(i, res))\n",
    "\n",
    "len(optimizer.res)\n",
    "optimizer.res[0]"
   ]
  }
 ],
 "metadata": {
  "kernelspec": {
   "display_name": "Python 2",
   "language": "python",
   "name": "python2"
  },
  "language_info": {
   "codemirror_mode": {
    "name": "ipython",
    "version": 2
   },
   "file_extension": ".py",
   "mimetype": "text/x-python",
   "name": "python",
   "nbconvert_exporter": "python",
   "pygments_lexer": "ipython2",
   "version": "2.7.15rc1"
  }
 },
 "nbformat": 4,
 "nbformat_minor": 2
}
